{
 "cells": [
  {
   "cell_type": "code",
   "execution_count": 5,
   "id": "7ff77c4b-21e1-4cd6-8e3e-9d6fdb780bd8",
   "metadata": {},
   "outputs": [
    {
     "name": "stdout",
     "output_type": "stream",
     "text": [
      "068f0b7f-0772-4053-8480-d5d53826b32e\n"
     ]
    },
    {
     "data": {
      "text/plain": [
       "{'message': 'Logged in successfully',\n",
       " 'token': '068f0b7f-0772-4053-8480-d5d53826b32e'}"
      ]
     },
     "execution_count": 5,
     "metadata": {},
     "output_type": "execute_result"
    }
   ],
   "source": [
    "# логинимся\n",
    "\n",
    "import requests\n",
    "\n",
    "#url = 'http://192.168.86.68:8080/user_login'\n",
    "url = 'http://localhost:8080/user_login'\n",
    "\n",
    "\n",
    "body = {\n",
    "    \"username\": \"MedovikovOE\",\n",
    "    \"password\": \"1245\"\n",
    "}\n",
    "headers = {\n",
    "\"Content-Type\": \"application/json\"\n",
    "}\n",
    "\n",
    "req = requests.post(url, headers=headers, json=body)\n",
    "\n",
    "if not isinstance(req.json(), str):\n",
    "    token = req.json().get('token')\n",
    "else:\n",
    "    token = None\n",
    "print(token)\n",
    "req.json()"
   ]
  },
  {
   "cell_type": "code",
   "execution_count": 12,
   "id": "a7385774-8b1c-420b-ae0d-e7498d1c8ffa",
   "metadata": {},
   "outputs": [
    {
     "data": {
      "text/plain": [
       "[{'user_guid': '8e7c567a-fe17-49af-808d-5abda9d8bb1a',\n",
       "  'user_fio': 'Безбородов',\n",
       "  'command_guid': '935acc4f-ba32-4302-9861-d8e4215c7b1e',\n",
       "  'command_name': 'Рулетка',\n",
       "  'description': 'тест Jktu'}]"
      ]
     },
     "execution_count": 12,
     "metadata": {},
     "output_type": "execute_result"
    }
   ],
   "source": [
    "import requests\n",
    "\n",
    "url = 'http://localhost:8080/access_get_all'\n",
    "\n",
    "headers = {\n",
    "\"Content-Type\": \"application/json\", \"Authorization\": token\n",
    "}\n",
    "\n",
    "req = requests.get(url, headers=headers)\n",
    "\n",
    "req.json()\n"
   ]
  },
  {
   "cell_type": "code",
   "execution_count": 15,
   "id": "0ffc4869-1571-4643-8840-b5d32fc471e6",
   "metadata": {},
   "outputs": [
    {
     "name": "stdout",
     "output_type": "stream",
     "text": [
      "{'user_guid': '8e7c567a-fe17-49af-808d-5abda9d8bb1a', 'user_fio': 'Безбородов', 'command_guid': '935acc4f-ba32-4302-9861-d8e4215c7b1e', 'command_name': 'Рулетка', 'description': 'тест Jktu'}\n",
      "Безбородов\n"
     ]
    }
   ],
   "source": [
    "for row in req.json():\n",
    "    print(row)\n",
    "    a = row['user_fio']\n",
    "    b = row['']\n",
    "    print(a)\n",
    "    break"
   ]
  },
  {
   "cell_type": "code",
   "execution_count": 11,
   "id": "ae26db89-4928-48cd-b379-08cfc446e22b",
   "metadata": {},
   "outputs": [
    {
     "data": {
      "text/plain": [
       "{'message': 'Доступ к команде успешно создан!',\n",
       " 'user_guid': '8e7c567a-fe17-49af-808d-5abda9d8bb1a'}"
      ]
     },
     "execution_count": 11,
     "metadata": {},
     "output_type": "execute_result"
    }
   ],
   "source": [
    "# import requests\n",
    "\n",
    "# URL, на который вы хотите отправить запрос\n",
    "url = 'http://localhost:8080/access_create'\n",
    "\n",
    "headers = {\n",
    "\"Content-Type\": \"application/json\", \"Authorization\": token\n",
    "}\n",
    "body = {\n",
    "    'user_guid': '8e7c567a-fe17-49af-808d-5abda9d8bb1a',\n",
    "    'command_guid': '935acc4f-ba32-4302-9861-d8e4215c7b1e',\n",
    "    'description': 'тест Jktu'\n",
    "}\n",
    "\n",
    "\n",
    "req = requests.post(url, headers=headers, json=body)\n",
    "\n",
    "req.json()"
   ]
  }
 ],
 "metadata": {
  "kernelspec": {
   "display_name": "Python 3 (ipykernel)",
   "language": "python",
   "name": "python3"
  },
  "language_info": {
   "codemirror_mode": {
    "name": "ipython",
    "version": 3
   },
   "file_extension": ".py",
   "mimetype": "text/x-python",
   "name": "python",
   "nbconvert_exporter": "python",
   "pygments_lexer": "ipython3",
   "version": "3.12.2"
  }
 },
 "nbformat": 4,
 "nbformat_minor": 5
}
